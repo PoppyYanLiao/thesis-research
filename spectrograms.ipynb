{
  "nbformat": 4,
  "nbformat_minor": 0,
  "metadata": {
    "colab": {
      "provenance": []
    },
    "kernelspec": {
      "name": "python3",
      "display_name": "Python 3"
    },
    "language_info": {
      "name": "python"
    }
  },
  "cells": [
    {
      "cell_type": "code",
      "execution_count": null,
      "metadata": {
        "id": "cYdNcZSgIksz"
      },
      "outputs": [],
      "source": [
        "import librosa\n",
        "import numpy as np\n",
        "import matplotlib.pyplot as plt\n",
        "\n",
        "# 加载 fine-tuned model 音频文件\n",
        "audio_file = '/content/drive/MyDrive/Colab Notebooks/MOS/4.wav'\n",
        "y, sr = librosa.load(audio_file)\n",
        "\n",
        "# 提取音频特征\n",
        "chroma = librosa.feature.chroma_stft(y=y, sr=sr)\n",
        "mfccs = librosa.feature.mfcc(y=y, sr=sr)\n",
        "spectral_centroid = librosa.feature.spectral_centroid(y=y, sr=sr)[0]\n",
        "\n",
        "# 计算特征的均值\n",
        "chroma_mean = np.mean(chroma)\n",
        "mfccs_mean = np.mean(mfccs)\n",
        "spectral_centroid_mean = np.mean(spectral_centroid)\n",
        "\n",
        "# 打印特征均值\n",
        "print(\"Chroma mean:\", chroma_mean)\n",
        "print(\"MFCCs mean:\", mfccs_mean)\n",
        "print(\"Spectral centroid mean:\", spectral_centroid_mean)\n",
        "\n",
        "# 绘制音频波形图和频谱图\n",
        "plt.figure(figsize=(12, 6))\n",
        "plt.subplot(2, 1, 1)\n",
        "plt.plot(y)\n",
        "plt.title('Waveform')\n",
        "plt.subplot(2, 1, 2)\n",
        "librosa.display.specshow(librosa.amplitude_to_db(np.abs(librosa.stft(y)), ref=np.max), sr=sr, x_axis='time', y_axis='log')\n",
        "plt.colorbar(format='%+2.0f dB')\n",
        "plt.title('Spectrogram of fine tuned model')\n",
        "plt.tight_layout()\n",
        "plt.show()\n"
      ]
    },
    {
      "cell_type": "code",
      "source": [
        "import librosa\n",
        "import numpy as np\n",
        "import matplotlib.pyplot as plt\n",
        "\n",
        "# 加载 pre-trained model 音频文件\n",
        "audio_file = '/content/drive/MyDrive/MOS2/4.wav'\n",
        "y, sr = librosa.load(audio_file)\n",
        "\n",
        "# 提取音频特征\n",
        "chroma = librosa.feature.chroma_stft(y=y, sr=sr)\n",
        "mfccs = librosa.feature.mfcc(y=y, sr=sr)\n",
        "spectral_centroid = librosa.feature.spectral_centroid(y=y, sr=sr)[0]\n",
        "\n",
        "# 计算特征的均值\n",
        "chroma_mean = np.mean(chroma)\n",
        "mfccs_mean = np.mean(mfccs)\n",
        "spectral_centroid_mean = np.mean(spectral_centroid)\n",
        "\n",
        "# 打印特征均值\n",
        "print(\"Chroma mean:\", chroma_mean)\n",
        "print(\"MFCCs mean:\", mfccs_mean)\n",
        "print(\"Spectral centroid mean:\", spectral_centroid_mean)\n",
        "\n",
        "# 绘制音频波形图和频谱图\n",
        "plt.figure(figsize=(12, 6))\n",
        "plt.subplot(2, 1, 1)\n",
        "plt.plot(y)\n",
        "plt.title('Waveform')\n",
        "plt.subplot(2, 1, 2)\n",
        "librosa.display.specshow(librosa.amplitude_to_db(np.abs(librosa.stft(y)), ref=np.max), sr=sr, x_axis='time', y_axis='log')\n",
        "plt.colorbar(format='%+2.0f dB')\n",
        "plt.title('Spectrogram of pre-trained model')\n",
        "plt.tight_layout()\n",
        "plt.show()"
      ],
      "metadata": {
        "id": "ALWcQKQ6J1ds"
      },
      "execution_count": null,
      "outputs": []
    }
  ]
}