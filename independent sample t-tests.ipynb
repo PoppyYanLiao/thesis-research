{
  "nbformat": 4,
  "nbformat_minor": 0,
  "metadata": {
    "colab": {
      "provenance": []
    },
    "kernelspec": {
      "name": "python3",
      "display_name": "Python 3"
    },
    "language_info": {
      "name": "python"
    }
  },
  "cells": [
    {
      "cell_type": "code",
      "execution_count": null,
      "metadata": {
        "id": "cYdNcZSgIksz"
      },
      "outputs": [],
      "source": [
        "import scipy.stats as stats\n",
        "\n",
        "# fine-tuned模型的数据\n",
        "fine_tuned_acc = [4.44, 4.50, 4.16, 4.11, 3.94, 3.77]  # 准确度\n",
        "fine_tuned_prosody = [3.72, 3.77, 4.16, 3.50, 3.94, 3.94]  # 韵律表现\n",
        "\n",
        "# pre-trained模型的数据\n",
        "pre_trained_acc = [3.00, 4.05, 3.88, 4.11,3.94,3.38]  # 准确度\n",
        "pre_trained_prosody = [3.11, 3.22, 2.66, 2.72, 2.55, 2.38]  # 韵律表现\n",
        "\n",
        "# 进行准确度的独立样本t检验\n",
        "t_stat_acc, p_value_acc = stats.ttest_ind(fine_tuned_acc, pre_trained_acc, equal_var=True)\n",
        "\n",
        "# 进行韵律表现的独立样本t检验\n",
        "t_stat_prosody, p_value_prosody = stats.ttest_ind(fine_tuned_prosody, pre_trained_prosody, equal_var=True)\n",
        "\n",
        "print(f\"accuracy：t-value = {t_stat_acc}, p-value = {p_value_acc}\")\n",
        "print(f\"prosodic expression：t-value = {t_stat_prosody}, p-value = {p_value_prosody}\")\n",
        "\n",
        "# 如果方差不齐，可以使用Welch's t检验\n",
        "t_stat_acc_welch, p_value_acc_welch = stats.ttest_ind(fine_tuned_acc, pre_trained_acc, equal_var=False)\n",
        "t_stat_prosody_welch, p_value_prosody_welch = stats.ttest_ind(fine_tuned_prosody, pre_trained_prosody, equal_var=False)\n",
        "\n",
        "print(f\"accuracy Welch's:t-value= {t_stat_acc_welch}, p-value = {p_value_acc_welch}\")\n",
        "print(f\"prosodic expression Welch's:t-value = {t_stat_prosody_welch}, p-value = {p_value_prosody_welch}\")"
      ]
    }
  ]
}