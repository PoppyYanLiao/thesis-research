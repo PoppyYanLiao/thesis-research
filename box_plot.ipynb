{
  "nbformat": 4,
  "nbformat_minor": 0,
  "metadata": {
    "colab": {
      "provenance": []
    },
    "kernelspec": {
      "name": "python3",
      "display_name": "Python 3"
    },
    "language_info": {
      "name": "python"
    }
  },
  "cells": [
    {
      "cell_type": "code",
      "execution_count": null,
      "metadata": {
        "id": "cYdNcZSgIksz"
      },
      "outputs": [],
      "source": [
        "import matplotlib.pyplot as plt\n",
        "\n",
        "# 非专业组数据\n",
        "fine_tuned_accuracy_nonpro = [4.44, 4.50, 4.16, 4.11, 3.94, 3.77]\n",
        "fine_tuned_prosody_nonpro = [3.72, 3.77, 4.16, 3.50, 3.94, 3.94]\n",
        "\n",
        "pre_trained_accuracy_nonpro = [3.00, 4.05, 3.88, 4.11, 3.94, 3.38]\n",
        "pre_trained_prosody_nonpro = [3.11, 3.22, 2.66, 2.72, 2.55, 2.38]\n",
        "\n",
        "# 绘图\n",
        "plt.figure(figsize=(14, 10))\n",
        "\n",
        "# 非专业组：发音准确度箱线图\n",
        "plt.subplot(2, 2, 3)\n",
        "plt.boxplot([fine_tuned_accuracy_nonpro, pre_trained_accuracy_nonpro], labels=[\"Fine-tuned\", \"Pre-trained\"])\n",
        "plt.title(\"Pronunciation Accuracy (Non-professional)\")\n",
        "plt.xlabel(\"Model\")\n",
        "plt.ylabel(\"Score\")\n",
        "\n",
        "# 非专业组：韵律表现箱线图\n",
        "plt.subplot(2, 2, 4)\n",
        "plt.boxplot([fine_tuned_prosody_nonpro, pre_trained_prosody_nonpro], labels=[\"Fine-tuned\", \"Pre-trained\"])\n",
        "plt.title(\"Prosodic Expression (Non-professional)\")\n",
        "plt.xlabel(\"Model\")\n",
        "plt.ylabel(\"Score\")\n",
        "\n",
        "plt.tight_layout()\n",
        "plt.show()"
      ]
    },
    {
      "cell_type": "code",
      "source": [
        "import matplotlib.pyplot as plt\n",
        "\n",
        "# 专业组数据\n",
        "fine_tuned_accuracy = [4.06, 3.87, 4.43, 4.06, 4.18, 3.93]\n",
        "fine_tuned_prosody = [3.68, 3.61, 4.00, 3.81, 4.12, 4.06]\n",
        "\n",
        "pre_trained_accuracy = [3.43, 3.75, 3.81, 3.87, 3.81, 3.68]\n",
        "pre_trained_prosody = [2.87, 3.31, 2.56, 3.00, 2.93, 2.75]\n",
        "\n",
        "# 绘图\n",
        "plt.figure(figsize=(10, 5))\n",
        "\n",
        "# 发音准确度箱线图\n",
        "plt.subplot(1, 2, 1)\n",
        "plt.boxplot([fine_tuned_accuracy, pre_trained_accuracy], labels=[\"Fine-tuned\", \"Pre-trained\"])\n",
        "plt.title(\"Pronunciation Accuracy\")\n",
        "plt.xlabel(\"Model\")\n",
        "plt.ylabel(\"Score\")\n",
        "\n",
        "# 韵律表现箱线图\n",
        "plt.subplot(1, 2, 2)\n",
        "plt.boxplot([fine_tuned_prosody, pre_trained_prosody], labels=[\"Fine-tuned\", \"Pre-trained\"])\n",
        "plt.title(\"Prosodic Expression\")\n",
        "plt.xlabel(\"Model\")\n",
        "plt.ylabel(\"Score\")\n",
        "\n",
        "plt.tight_layout()\n",
        "plt.show()\n"
      ],
      "metadata": {
        "id": "ALWcQKQ6J1ds"
      },
      "execution_count": null,
      "outputs": []
    }
  ]
}